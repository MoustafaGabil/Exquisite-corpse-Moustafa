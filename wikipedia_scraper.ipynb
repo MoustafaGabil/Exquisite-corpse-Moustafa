{
 "cells": [
  {
   "cell_type": "markdown",
   "metadata": {},
   "source": [
    "# My first notebook"
   ]
  },
  {
   "cell_type": "markdown",
   "metadata": {},
   "source": []
  },
  {
   "cell_type": "code",
   "execution_count": 23,
   "metadata": {},
   "outputs": [
    {
     "name": "stdout",
     "output_type": "stream",
     "text": [
      "Hello Mrs.Mona your full name is: Mona Mohamed Soliman\n"
     ]
    }
   ],
   "source": [
    "class Member:\n",
    "    \n",
    "    def __init__(self, first_name, middle_name, last_name, gender):\n",
    "        self.fname = first_name\n",
    "        self.mname = middle_name\n",
    "        self.lname = last_name\n",
    "        self.gender = gender\n",
    "        \n",
    "    def full_name(self):\n",
    "        return f\"{self.fname} {self.mname} {self.lname}\"\n",
    "    \n",
    "    def name_with_title (self):\n",
    "        if self.gender == \"Male\":\n",
    "            return f\" Hello Mr.{self.fname}\"\n",
    "        else:\n",
    "            return f\"Hello Mrs.{self.fname}\"\n",
    "        \n",
    "# This methods does all of the functions that previous methods do.\n",
    "    def get_all_info (self):\n",
    "        return f\"{self.name_with_title()} your full name is: {self.full_name()}\"\n",
    "    \n",
    "member_3 =Member(\"Mona\", \"Mohamed\", \"Soliman\", \"Female\")\n",
    "print (member_3.get_all_info())\n",
    "\n",
    "########### instance method can access the attributes and the methods of the same object.  \n"
   ]
  },
  {
   "cell_type": "code",
   "execution_count": 37,
   "metadata": {},
   "outputs": [
    {
     "name": "stdout",
     "output_type": "stream",
     "text": [
      "0\n",
      "4\n",
      "User Hell is Deleted\n",
      "3\n"
     ]
    }
   ],
   "source": [
    "# New class that prevent user to name people with a certain names\n",
    "class Member:\n",
    "    not_allowed_names = [\"Hell\", \"Shit\", \"Baloot\"] # class atrribute defined outside the constructor\n",
    "    users_num = 0\n",
    "    def __init__(self, first_name, middle_name, last_name, gender):\n",
    "        self.fname = first_name\n",
    "        self.mname = middle_name\n",
    "        self.lname = last_name\n",
    "        self.gender = gender\n",
    "        Member.users_num +=1 #Member.user_num = Member.users_num +1 \n",
    "        \n",
    "    def full_name(self):\n",
    "        if self.fname in Member.not_allowed_names:\n",
    "            raise ValueError (\"Name not Allowed\")\n",
    "        else:\n",
    "            return f\"{self.fname} {self.mname} {self.lname}\"\n",
    "    \n",
    "    \n",
    "    def name_with_title (self):\n",
    "        if self.gender == \"Male\":\n",
    "            return f\" Hello Mr.{self.fname}\"\n",
    "        else:\n",
    "            return f\"Hello Mrs.{self.fname}\"\n",
    "        \n",
    "# This methods does all of the functions that previous methods do.\n",
    "    def get_all_info (self):\n",
    "        return f\"{self.name_with_title()} your full name is: {self.full_name()}\"\n",
    "    \n",
    "# method that delet the users\n",
    "\n",
    "    def delet_user(self):\n",
    "        Member.users_num -= 1\n",
    "        \n",
    "        return f\"User {self.fname} is Deleted\"\n",
    "    \n",
    "print(Member.users_num)    \n",
    "member_1 = Member(\"Moustafa\", \"Ali\", \"Ahmed\", \"Female\")\n",
    "member_2 = Member(\"Mona\",\"Ibrahim\", \"Elsayd\", \"Male\")\n",
    "member_3 = Member(\"Amr\", \"Mohamed\", \"Soliman\", \"Female\")\n",
    "member_4 = Member(\"Hell\",\"Abdo\", \"Yasser\", \"Male\")\n",
    "print(Member.users_num)\n",
    "print (member_4.delet_user()) \n",
    "print (Member.users_num)\n",
    "# print (member_3.get_all_info())\n",
    "# print(member_4.get_all_info())"
   ]
  },
  {
   "cell_type": "code",
   "execution_count": 51,
   "metadata": {},
   "outputs": [
    {
     "name": "stdout",
     "output_type": "stream",
     "text": [
      "3\n",
      "4\n",
      "##################################################\n",
      "User Hell is Deleted\n",
      "3\n",
      "##################################################\n",
      "We have 3 Users in our system.\n",
      "##################################################\n",
      "Hello From the static Method\n"
     ]
    }
   ],
   "source": [
    "############### Static Methods ###############\n",
    "class Member:\n",
    "    not_allowed_names = [\"Hell\", \"Shit\", \"Baloot\"] # class atrribute defined outside the constructor\n",
    "    \n",
    "    users_num = 0\n",
    "    '''# here it points to a method that points to the class not to the \n",
    "  instance that points to the class. \n",
    "        # It doesn't require a creation of a class instance.\n",
    "        # Used when you want to Do something with the class itself ( not the instance that I creat from this class)\n",
    "        # It takes no parameter\n",
    "          \n",
    "       # '''\n",
    "    @classmethod            \n",
    "    def show_users_count(cls):\n",
    "        print (f'We have {cls.users_num} Users in our system.')\n",
    "        # Here below if you just want to access the method that points to this class\n",
    "        # without even creating an instance object or pointing to the class.\n",
    "        # We can use it directly\n",
    "    @staticmethod\n",
    "    def say_hello():\n",
    "        \n",
    "        print (\"Hello From the static Method\")\n",
    "            \n",
    "        \n",
    "        \n",
    "        \n",
    "        \n",
    "    def __init__(self, first_name, middle_name, last_name, gender):\n",
    "        self.fname = first_name\n",
    "        self.mname = middle_name\n",
    "        self.lname = last_name\n",
    "        self.gender = gender\n",
    "        Member.users_num +=1 #Member.user_num = Member.users_num +1 \n",
    "        \n",
    "    def full_name(self):\n",
    "        if self.fname in Member.not_allowed_names:\n",
    "            raise ValueError (\"Name not Allowed\")\n",
    "        else:\n",
    "            return f\"{self.fname} {self.mname} {self.lname}\"\n",
    "    \n",
    "    \n",
    "    def name_with_title (self):\n",
    "        if self.gender == \"Male\":\n",
    "            return f\" Hello Mr.{self.fname}\"\n",
    "        else:\n",
    "            return f\"Hello Mrs.{self.fname}\"\n",
    "        \n",
    "# This methods does all of the functions that previous methods do.\n",
    "    def get_all_info (self):\n",
    "        return f\"{self.name_with_title()} your full name is: {self.full_name()}\"\n",
    "    \n",
    "# method that delet the users\n",
    "\n",
    "    def delet_user(self):\n",
    "        Member.users_num -= 1\n",
    "        \n",
    "        return f\"User {self.fname} is Deleted\" \n",
    "    print(Member.users_num)    \n",
    "member_1 = Member(\"Moustafa\", \"Ali\", \"Ahmed\", \"Female\")\n",
    "member_2 = Member(\"Mona\",\"Ibrahim\", \"Elsayd\", \"Male\")\n",
    "member_3 = Member(\"Amr\", \"Mohamed\", \"Soliman\", \"Female\")\n",
    "member_4 = Member(\"Hell\",\"Abdo\", \"Yasser\", \"Male\")\n",
    "print(Member.users_num)\n",
    "print ('#'*50)\n",
    "print (member_4.delet_user()) \n",
    "print (Member.users_num)\n",
    "print ('#'*50)\n",
    "''' ##### note we just used the static method directly without\n",
    "                               creating an instance object '''\n",
    "Member.show_users_count() \n",
    "\n",
    "print ('#'*50)\n",
    "# print(member_1.full_name())\n",
    "# print(Member.full_name(member_1)) #note: this is what python made in the background\n",
    "\n",
    "Member.say_hello() \n"
   ]
  },
  {
   "cell_type": "code",
   "execution_count": null,
   "metadata": {},
   "outputs": [],
   "source": []
  }
 ],
 "metadata": {
  "kernelspec": {
   "display_name": "base",
   "language": "python",
   "name": "python3"
  },
  "language_info": {
   "codemirror_mode": {
    "name": "ipython",
    "version": 3
   },
   "file_extension": ".py",
   "mimetype": "text/x-python",
   "name": "python",
   "nbconvert_exporter": "python",
   "pygments_lexer": "ipython3",
   "version": "3.10.9"
  }
 },
 "nbformat": 4,
 "nbformat_minor": 2
}
